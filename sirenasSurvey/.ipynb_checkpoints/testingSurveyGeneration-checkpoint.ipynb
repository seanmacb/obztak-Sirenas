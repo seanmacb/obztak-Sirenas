{
 "cells": [
  {
   "cell_type": "code",
   "execution_count": 3,
   "id": "a009f21c-d65e-4680-90e8-c11129f63353",
   "metadata": {
    "execution": {
     "iopub.execute_input": "2025-02-19T20:27:58.358299Z",
     "iopub.status.busy": "2025-02-19T20:27:58.356146Z",
     "iopub.status.idle": "2025-02-19T20:27:59.531897Z",
     "shell.execute_reply": "2025-02-19T20:27:59.531490Z",
     "shell.execute_reply.started": "2025-02-19T20:27:58.358210Z"
    }
   },
   "outputs": [],
   "source": [
    "import os\n",
    "import glob\n",
    "import json\n",
    "import obztak\n",
    "import numpy as np\n",
    "from obztak.survey import Survey\n",
    "from obztak.utils.testing import call, make_options\n",
    "from obztak.utils import fileio"
   ]
  },
  {
   "cell_type": "code",
   "execution_count": 4,
   "id": "bfe96dd4-e42c-40fd-8ff6-66fe1fd3c3fb",
   "metadata": {
    "execution": {
     "iopub.execute_input": "2025-02-19T20:28:12.995683Z",
     "iopub.status.busy": "2025-02-19T20:28:12.995166Z",
     "iopub.status.idle": "2025-02-19T20:28:12.999828Z",
     "shell.execute_reply": "2025-02-19T20:28:12.998866Z",
     "shell.execute_reply.started": "2025-02-19T20:28:12.995651Z"
    }
   },
   "outputs": [],
   "source": [
    "survey = Survey()"
   ]
  },
  {
   "cell_type": "code",
   "execution_count": null,
   "id": "3c212566-c1e5-4f09-b4a5-0e7e93a93854",
   "metadata": {},
   "outputs": [],
   "source": [
    "nights = [[]]"
   ]
  },
  {
   "cell_type": "code",
   "execution_count": null,
   "id": "9b98382b-3218-4b92-9e46-77de93c911ed",
   "metadata": {},
   "outputs": [],
   "source": [
    "survey.prepare_windows(nights, horizon=-14., standards=False, outfile=None)"
   ]
  }
 ],
 "metadata": {
  "kernelspec": {
   "display_name": "Python 3 (ipykernel)",
   "language": "python",
   "name": "python3"
  },
  "language_info": {
   "codemirror_mode": {
    "name": "ipython",
    "version": 3
   },
   "file_extension": ".py",
   "mimetype": "text/x-python",
   "name": "python",
   "nbconvert_exporter": "python",
   "pygments_lexer": "ipython3",
   "version": "3.10.12"
  }
 },
 "nbformat": 4,
 "nbformat_minor": 5
}
