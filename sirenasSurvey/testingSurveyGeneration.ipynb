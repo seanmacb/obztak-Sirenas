{
 "cells": [
  {
   "cell_type": "code",
   "execution_count": 1,
   "id": "a009f21c-d65e-4680-90e8-c11129f63353",
   "metadata": {
    "execution": {
     "iopub.execute_input": "2025-02-19T20:58:49.175238Z",
     "iopub.status.busy": "2025-02-19T20:58:49.173101Z",
     "iopub.status.idle": "2025-02-19T20:58:50.314084Z",
     "shell.execute_reply": "2025-02-19T20:58:50.313686Z",
     "shell.execute_reply.started": "2025-02-19T20:58:49.175175Z"
    }
   },
   "outputs": [],
   "source": [
    "import os\n",
    "import glob\n",
    "import json\n",
    "import obztak\n",
    "import numpy as np\n",
    "from obztak.survey import Survey\n",
    "from obztak.utils.testing import call, make_options\n",
    "from obztak.utils import fileio\n",
    "\n",
    "from obztak.scheduler import Scheduler\n",
    "from obztak.field import FieldArray\n",
    "from obztak.utils.parser import DatetimeAction\n",
    "from obztak.utils import ortho"
   ]
  },
  {
   "cell_type": "code",
   "execution_count": 2,
   "id": "bfe96dd4-e42c-40fd-8ff6-66fe1fd3c3fb",
   "metadata": {
    "execution": {
     "iopub.execute_input": "2025-02-19T20:58:50.315413Z",
     "iopub.status.busy": "2025-02-19T20:58:50.315181Z",
     "iopub.status.idle": "2025-02-19T20:58:50.317557Z",
     "shell.execute_reply": "2025-02-19T20:58:50.317247Z",
     "shell.execute_reply.started": "2025-02-19T20:58:50.315399Z"
    }
   },
   "outputs": [],
   "source": [
    "survey = Survey()"
   ]
  },
  {
   "cell_type": "code",
   "execution_count": 3,
   "id": "3c212566-c1e5-4f09-b4a5-0e7e93a93854",
   "metadata": {
    "execution": {
     "iopub.execute_input": "2025-02-19T20:58:50.318052Z",
     "iopub.status.busy": "2025-02-19T20:58:50.317932Z",
     "iopub.status.idle": "2025-02-19T20:58:50.320076Z",
     "shell.execute_reply": "2025-02-19T20:58:50.319774Z",
     "shell.execute_reply.started": "2025-02-19T20:58:50.318040Z"
    }
   },
   "outputs": [],
   "source": [
    "nights = [\n",
    "        ['2025/9/21', 'full'],\n",
    "        ['2025/9/22', 'full'],\n",
    "        ['2025/9/23', 'full'],\n",
    "        ['2025/10/18', 'first'],\n",
    "        ['2025/10/19', 'full'],\n",
    "        ['2025/10/20', 'second']\n",
    "        ]"
   ]
  },
  {
   "cell_type": "code",
   "execution_count": 4,
   "id": "9b98382b-3218-4b92-9e46-77de93c911ed",
   "metadata": {
    "execution": {
     "iopub.execute_input": "2025-02-19T20:58:50.323575Z",
     "iopub.status.busy": "2025-02-19T20:58:50.323477Z",
     "iopub.status.idle": "2025-02-19T20:58:50.348385Z",
     "shell.execute_reply": "2025-02-19T20:58:50.348033Z",
     "shell.execute_reply.started": "2025-02-19T20:58:50.323564Z"
    }
   },
   "outputs": [],
   "source": [
    "windows = survey.prepare_windows(nights, horizon=-18., standards=False, outfile=None)"
   ]
  },
  {
   "cell_type": "code",
   "execution_count": 5,
   "id": "7f7e267a-9d25-44a2-81d5-b3e09ba86e28",
   "metadata": {
    "execution": {
     "iopub.execute_input": "2025-02-19T20:58:50.348991Z",
     "iopub.status.busy": "2025-02-19T20:58:50.348874Z",
     "iopub.status.idle": "2025-02-19T20:58:50.350871Z",
     "shell.execute_reply": "2025-02-19T20:58:50.350566Z",
     "shell.execute_reply.started": "2025-02-19T20:58:50.348979Z"
    },
    "scrolled": true
   },
   "outputs": [],
   "source": [
    "# fields = survey.prepare_fields(\"../target_fields.csv\",mode='decam_dither')"
   ]
  },
  {
   "cell_type": "code",
   "execution_count": 7,
   "id": "a6f058f3-a9ce-4739-bd8b-edb0a2b2568c",
   "metadata": {
    "execution": {
     "iopub.execute_input": "2025-02-19T23:39:13.456201Z",
     "iopub.status.busy": "2025-02-19T23:39:13.454108Z",
     "iopub.status.idle": "2025-02-19T23:40:29.014231Z",
     "shell.execute_reply": "2025-02-19T23:40:29.013622Z",
     "shell.execute_reply.started": "2025-02-19T23:39:13.456112Z"
    }
   },
   "outputs": [
    {
     "name": "stderr",
     "output_type": "stream",
     "text": [
      "Key HEX not found in input array\n",
      "Loading target fields...\n",
      " ../target_fields.csv\n",
      "Loading observed fields...\n",
      "Failed to load completed exposures from database\n",
      "connection to server at \"des90.fnal.gov\" (131.225.58.44), port 5442 failed: Operation timed out\n",
      "\tIs the server running on that host and accepting TCP/IP connections?\n",
      "\n",
      "Loading completed fields...\n",
      "Key HEX not found in input array\n"
     ]
    }
   ],
   "source": [
    "# parser = Scheduler.parser()\n",
    "# parser.description = __doc__\n",
    "# parser.add_argument('--nightly',action='store_true',\n",
    "#                     help='Plot only at the end of the night')\n",
    "# parser.add_argument('--nonstop',action='store_true',\n",
    "#                     help='Run entire survey without stops')\n",
    "#parser.add_argument('--utc-start',action=DatetimeAction,\n",
    "#                    help=\"start time for observation.\")\n",
    "#parser.add_argument('--utc-end',action=DatetimeAction,\n",
    "#                    help=\"end time for observation.\")\n",
    "\n",
    "# args = parser.parse_args()\n",
    "\n",
    "scheduler = Scheduler(\"../target_fields.csv\",windows,\"../observed_fields.csv\")\n",
    "\n",
    "###\n",
    "\n",
    "# if args.utc_start and args.utc_end:\n",
    "#     windows = [[args.utc_start,args.utc_end]]\n",
    "# else:\n",
    "#     windows = scheduler.observation_windows\n",
    "\n",
    "# scheduled = FieldArray()\n",
    "# for i,(start,end) in enumerate(windows):\n",
    "#     print start,end\n",
    "\n",
    "#     if args.nightly: \n",
    "#         scheduler.schedule_nite(start,plot=False)\n",
    "#         field_select = scheduler.scheduled_fields[-1]\n",
    "#         ortho.plotFields(field_select,scheduler.target_fields,scheduler.completed_fields)\n",
    "#     else:\n",
    "#         scheduler.run(tstart=start,tstop=end,plot=args.plot)\n",
    "#     scheduled = scheduled + scheduler.scheduled_fields\n",
    "\n",
    "#     if not args.nonstop:\n",
    "#         if (raw_input(' ...continue ([y]/n)').lower()=='n'): break\n",
    "\n",
    "# if not args.nonstop:\n",
    "#     raw_input(' ...finish...')\n",
    "\n",
    "# if args.outfile: \n",
    "#     scheduled.write(args.outfile)"
   ]
  },
  {
   "cell_type": "code",
   "execution_count": null,
   "id": "bd0f2643-7386-4b04-821a-016c6d1db931",
   "metadata": {},
   "outputs": [],
   "source": []
  }
 ],
 "metadata": {
  "kernelspec": {
   "display_name": "Python 3 (ipykernel)",
   "language": "python",
   "name": "python3"
  },
  "language_info": {
   "codemirror_mode": {
    "name": "ipython",
    "version": 3
   },
   "file_extension": ".py",
   "mimetype": "text/x-python",
   "name": "python",
   "nbconvert_exporter": "python",
   "pygments_lexer": "ipython3",
   "version": "3.10.12"
  }
 },
 "nbformat": 4,
 "nbformat_minor": 5
}
